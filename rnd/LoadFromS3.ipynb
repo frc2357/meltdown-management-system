{
 "cells": [
  {
   "cell_type": "code",
   "execution_count": null,
   "metadata": {},
   "outputs": [
    {
     "name": "stdout",
     "output_type": "stream",
     "text": [
      "('C:\\\\Users\\\\crazy\\\\AppData\\\\Local\\\\Temp\\\\tmpt4mj2pqz', <http.client.HTTPMessage object at 0x0000014A0648CC50>)\n",
      "      event team-match alliancePosition startLocation  autoLeave      end  \\\n",
      "0  arkansas     2357-1               R1         right          0     park   \n",
      "1  arkansas     1987-1               R2        center          0     park   \n",
      "2  arkansas     1987-2               R2        center          0  shallow   \n",
      "3  arkansas     1987-3               R2        center          0     park   \n",
      "4  arkansas     1987-4               R2          left          0     deep   \n",
      "5  arkansas     1987-5               R2          left          0     park   \n",
      "6  arkansas     1987-6               R2          left          0     park   \n",
      "\n",
      "   defenseRating  algaeClear  notes  coralPickup  ...  coralL1  coralL2  \\\n",
      "0              2           0    NaN            0  ...        0        0   \n",
      "1              3           4    NaN            6  ...        4        2   \n",
      "2              1           5    NaN           10  ...        7        3   \n",
      "3              3           5    NaN           14  ...        6        3   \n",
      "4              2           4    NaN           11  ...        1        5   \n",
      "5              2           0    NaN           10  ...        0        1   \n",
      "6              2           0    NaN           10  ...        0        1   \n",
      "\n",
      "   coralL3  coralL4  aCoralL1  aCoralL2  aCoralL3  aCoralL4  algaeBarge  \\\n",
      "0        0        0         0         0         0         0           0   \n",
      "1        0        0         0         0         0         0           5   \n",
      "2        0        0         1         0         0         0           1   \n",
      "3        4        0         3         1         0         0           2   \n",
      "4        5        1         0         0         4         0           6   \n",
      "5        4        4         0         1         1         0           3   \n",
      "6        4        4         0         1         1         0           3   \n",
      "\n",
      "   algaeProcessor  \n",
      "0               1  \n",
      "1               4  \n",
      "2               9  \n",
      "3              13  \n",
      "4               8  \n",
      "5               5  \n",
      "6               5  \n",
      "\n",
      "[7 rows x 26 columns]\n"
     ]
    }
   ],
   "source": [
    "import pandas as pd\n",
    "import urllib.request\n",
    "\n",
    "file = urllib.request.urlretrieve(\"https://mms-dev-scouting-output.s3.us-east-2.amazonaws.com/arkansas.csv\")\n",
    "df = pd.read_csv(file[0])\n",
    "print(df)\n"
   ]
  },
  {
   "cell_type": "code",
   "execution_count": null,
   "metadata": {},
   "outputs": [],
   "source": []
  }
 ],
 "metadata": {
  "kernelspec": {
   "display_name": "Python 3",
   "language": "python",
   "name": "python3"
  },
  "language_info": {
   "codemirror_mode": {
    "name": "ipython",
    "version": 3
   },
   "file_extension": ".py",
   "mimetype": "text/x-python",
   "name": "python",
   "nbconvert_exporter": "python",
   "pygments_lexer": "ipython3",
   "version": "3.13.2"
  }
 },
 "nbformat": 4,
 "nbformat_minor": 2
}
